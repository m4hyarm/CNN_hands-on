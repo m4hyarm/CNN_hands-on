{
  "cells": [
    {
      "attachments": {},
      "cell_type": "markdown",
      "metadata": {
        "id": "atBoGirgC-0w"
      },
      "source": [
        "---\n",
        "# Advanced PyTorch Tutorial\n",
        "## University of Tehran, School of ECE, Neural Networks Course, Spring 2023\n",
        "### Instructor: Dr. Ahmad Kalhor, Teaching Assistant: <a href=\"mailto:mahyar.maleki@ut.ac.ir\">Mahyar Maleki</a>\n",
        "\n",
        "---"
      ]
    },
    {
      "attachments": {},
      "cell_type": "markdown",
      "metadata": {
        "id": "cI6LADwzEFaf"
      },
      "source": [
        "### Importing Libraries"
      ]
    },
    {
      "cell_type": "code",
      "execution_count": null,
      "metadata": {
        "id": "dZWdCuiZPbrx"
      },
      "outputs": [],
      "source": [
        "import torch\n",
        "from torch import nn\n",
        "import torch.nn.functional as F\n",
        "from torch.utils.data import DataLoader, Dataset\n",
        "\n",
        "import torchvision\n",
        "from torchvision import transforms\n",
        "from torchvision.datasets import ImageFolder\n",
        "\n",
        "import matplotlib.pyplot as plt\n",
        "import seaborn as sns\n",
        "import numpy as np\n",
        "from tqdm import tqdm\n",
        "from PIL import Image\n",
        "import cv2\n",
        "import glob\n",
        "import os"
      ]
    },
    {
      "attachments": {},
      "cell_type": "markdown",
      "metadata": {
        "id": "UGZEKnaaESal"
      },
      "source": [
        "#### Mounting Google Drive"
      ]
    },
    {
      "cell_type": "code",
      "execution_count": null,
      "metadata": {
        "colab": {
          "base_uri": "https://localhost:8080/"
        },
        "id": "Hw2Gb7iuVC2K",
        "outputId": "543fa6f8-0482-4526-b2f6-97baec1dcfe3"
      },
      "outputs": [
        {
          "name": "stdout",
          "output_type": "stream",
          "text": [
            "Mounted at /content/drive\n"
          ]
        }
      ],
      "source": [
        "from google.colab import drive\n",
        "drive.mount('/content/drive')"
      ]
    },
    {
      "attachments": {},
      "cell_type": "markdown",
      "metadata": {
        "id": "JA8Gc2HiZarO"
      },
      "source": [
        "# 1. Dataset"
      ]
    },
    {
      "attachments": {},
      "cell_type": "markdown",
      "metadata": {
        "id": "fzDy6rNq2qEC"
      },
      "source": [
        "## Exploring Dataset"
      ]
    },
    {
      "attachments": {},
      "cell_type": "markdown",
      "metadata": {
        "id": "qpUxDv8OHPmx"
      },
      "source": [
        "Link to Dataset: [FashinMNIST Link](https://drive.google.com/drive/folders/1RckIKlh6GaoPTU_YeIOph_BwwY0qXQyj?usp=share_link)"
      ]
    },
    {
      "cell_type": "code",
      "execution_count": null,
      "metadata": {
        "id": "kZm1_AG3njoc"
      },
      "outputs": [],
      "source": [
        "DIR_TRAIN = \"/content/drive/MyDrive/fashionmnist/train/\"\n",
        "DIR_TEST = \"/content/drive/MyDrive/fashionmnist/test/\""
      ]
    },
    {
      "cell_type": "code",
      "execution_count": null,
      "metadata": {
        "colab": {
          "base_uri": "https://localhost:8080/"
        },
        "id": "Dw-aVojz2n5p",
        "outputId": "73b67ccd-0135-41ee-dc60-db80029506c2"
      },
      "outputs": [
        {
          "name": "stdout",
          "output_type": "stream",
          "text": [
            "Total Classes:  10\n",
            "\n",
            "Total train images:  60000\n",
            "Total test images:  10000\n"
          ]
        }
      ],
      "source": [
        "classes = os.listdir(DIR_TRAIN)\n",
        "print(\"Total Classes: \", len(classes))\n",
        "\n",
        "train_imgs = []\n",
        "test_imgs  = []\n",
        "for _class in classes:\n",
        "    train_imgs += glob.glob(DIR_TRAIN + _class + '/*.jpg')\n",
        "    test_imgs += glob.glob(DIR_TEST + _class + '/*.jpg')\n",
        "\n",
        "\n",
        "print(\"\\nTotal train images: \", len(train_imgs))\n",
        "print(\"Total test images: \", len(test_imgs))"
      ]
    },
    {
      "attachments": {},
      "cell_type": "markdown",
      "metadata": {
        "id": "rJbzhXNN6yd1"
      },
      "source": [
        "## Loading Dataset"
      ]
    },
    {
      "attachments": {},
      "cell_type": "markdown",
      "metadata": {
        "id": "oM6if3lLIvPw"
      },
      "source": [
        "#### Transformations"
      ]
    },
    {
      "cell_type": "code",
      "execution_count": null,
      "metadata": {
        "id": "Wp5pLfvUApNH"
      },
      "outputs": [],
      "source": [
        "Transforms = transforms.Compose([transforms.ToTensor(),\n",
        "                                 transforms.Normalize(mean=0.5, std=0.5)])"
      ]
    },
    {
      "attachments": {},
      "cell_type": "markdown",
      "metadata": {
        "id": "PHLWpFD164xA"
      },
      "source": [
        "#### Method 1 ( Using Torchvision Datasets )"
      ]
    },
    {
      "cell_type": "code",
      "execution_count": null,
      "metadata": {
        "id": "E0lYly464b26"
      },
      "outputs": [],
      "source": [
        "train_dataset = torchvision.datasets.FashionMNIST(\n",
        "    root = \"data\", # where to download data to\n",
        "    train = True, # get training data\n",
        "    download = True, # download data if it doesn't exist on disk\n",
        "    transform = Transforms # images come as PIL format, we want to turn into Torch tensors\n",
        ")\n",
        "\n",
        "test_dataset = torchvision.datasets.FashionMNIST(\n",
        "    root = \"data\",\n",
        "    train = False, # get test data\n",
        "    download = True,\n",
        "    transform = Transforms\n",
        ")"
      ]
    },
    {
      "attachments": {},
      "cell_type": "markdown",
      "metadata": {
        "id": "aGn5rgVb7XlW"
      },
      "source": [
        "#### Method 2 ( Using ImageFolder Class )"
      ]
    },
    {
      "cell_type": "code",
      "execution_count": null,
      "metadata": {
        "id": "LPCt5Lxi7RbN"
      },
      "outputs": [],
      "source": [
        "train_dataset = ImageFolder(root = DIR_TRAIN, transform = Transforms)\n",
        "test_dataset = ImageFolder(root = DIR_TEST, transform = Transforms)"
      ]
    },
    {
      "attachments": {},
      "cell_type": "markdown",
      "metadata": {
        "id": "RY0f2q9B7X0R"
      },
      "source": [
        "#### Method 3 ( Using Dataset Class )"
      ]
    },
    {
      "cell_type": "code",
      "execution_count": null,
      "metadata": {
        "id": "QwNc6-Ji7RXr"
      },
      "outputs": [],
      "source": [
        "class FashionMNISTDataset(Dataset):\n",
        "    \n",
        "    def __init__(self, imgs_list, classes, transforms):\n",
        "        \n",
        "        self.imgs_list = imgs_list\n",
        "        self.class_to_int = {classes[i] : i for i in range(len(classes))}\n",
        "        self.transforms = transforms\n",
        "        \n",
        "        \n",
        "    def __getitem__(self, index):\n",
        "\n",
        "        # Image path\n",
        "        image_path = self.imgs_list[index]\n",
        "        \n",
        "        # Reading image\n",
        "        image = Image.open(image_path)\n",
        "        \n",
        "        # Retriving class label\n",
        "        label = image_path.split(\"/\")[-2]\n",
        "        label = self.class_to_int[label]\n",
        "        \n",
        "        # Applying transforms on image\n",
        "        image = self.transforms(image)\n",
        "        \n",
        "        return image, label\n",
        "        \n",
        "\n",
        "    def __len__(self):\n",
        "        return len(self.imgs_list)"
      ]
    },
    {
      "cell_type": "code",
      "execution_count": null,
      "metadata": {
        "id": "_0KVj3ie7RVV"
      },
      "outputs": [],
      "source": [
        "train_dataset = FashionMNISTDataset(train_imgs, classes, Transforms)\n",
        "test_dataset = FashionMNISTDataset(test_imgs, classes, Transforms)"
      ]
    },
    {
      "attachments": {},
      "cell_type": "markdown",
      "metadata": {
        "id": "MEMSCjqygI_5"
      },
      "source": [
        "## Creating Dataloader"
      ]
    },
    {
      "cell_type": "code",
      "execution_count": null,
      "metadata": {
        "id": "nFgm__W97RTC"
      },
      "outputs": [],
      "source": [
        "train_dataloader = DataLoader(\n",
        "    dataset = train_dataset,\n",
        "    batch_size = 32,\n",
        "    num_workers = 2,\n",
        "    shuffle = True\n",
        ")\n",
        "\n",
        "test_dataloader = DataLoader(\n",
        "    dataset = test_dataset,\n",
        "    batch_size = 32,\n",
        "    num_workers = 2,\n",
        ")"
      ]
    },
    {
      "attachments": {},
      "cell_type": "markdown",
      "metadata": {
        "id": "qhCJj1HMhtjl"
      },
      "source": [
        "## Showing a sample"
      ]
    },
    {
      "cell_type": "code",
      "execution_count": null,
      "metadata": {
        "colab": {
          "base_uri": "https://localhost:8080/"
        },
        "id": "VvXCJD8j7ROX",
        "outputId": "d76da697-4b24-44ee-d365-9ba6eb5bdf6a"
      },
      "outputs": [
        {
          "data": {
            "text/plain": [
              "(torch.Size([32, 1, 28, 28]), torch.Size([32]))"
            ]
          },
          "execution_count": 32,
          "metadata": {},
          "output_type": "execute_result"
        }
      ],
      "source": [
        "# Check out what's inside the training dataloader\n",
        "train_features_batch, train_labels_batch = next(iter(train_dataloader))\n",
        "train_features_batch.shape, train_labels_batch.shape"
      ]
    },
    {
      "cell_type": "code",
      "execution_count": null,
      "metadata": {
        "colab": {
          "base_uri": "https://localhost:8080/",
          "height": 299
        },
        "id": "VvIGNcy47RMV",
        "outputId": "9b953b8f-673c-47c7-908a-c92d50a55a34"
      },
      "outputs": [
        {
          "name": "stdout",
          "output_type": "stream",
          "text": [
            "Image size: torch.Size([1, 28, 28])\n",
            "Label: 0\n"
          ]
        },
        {
          "data": {
            "image/png": "[encoded data removed]",
            "text/plain": [
              "<Figure size 432x288 with 1 Axes>"
            ]
          },
          "metadata": {
            "needs_background": "light"
          },
          "output_type": "display_data"
        }
      ],
      "source": [
        "img, label = train_features_batch[0], train_labels_batch[0]\n",
        "mean, std = 0.5, 0.5\n",
        "img = std * img + mean\n",
        "plt.imshow(img.permute(1, 2, 0), cmap='gray')\n",
        "plt.title(classes[label])\n",
        "plt.axis(\"Off\");\n",
        "print(f\"Image size: {img.shape}\")\n",
        "print(f\"Label: {label}\")"
      ]
    },
    {
      "attachments": {},
      "cell_type": "markdown",
      "metadata": {
        "id": "CGj7Dw-BszAq"
      },
      "source": [
        "# 2. Building a Convolutional Neural Network (CNN)"
      ]
    },
    {
      "attachments": {},
      "cell_type": "markdown",
      "metadata": {
        "id": "ZlpDmoYzZ2xC"
      },
      "source": [
        "![image.png](https://www.upgrad.com/blog/wp-content/uploads/2020/12/1-4.png)"
      ]
    },
    {
      "attachments": {},
      "cell_type": "markdown",
      "metadata": {
        "id": "ZJMzFfdlwjlR"
      },
      "source": [
        "#### Kernel Size"
      ]
    },
    {
      "attachments": {},
      "cell_type": "markdown",
      "metadata": {
        "id": "Lrr8fapd1lU-"
      },
      "source": [
        "Choosing an appropriate kernel size will be dependent on your task and dataset, but generally, smaller kernel sizes lead to better performance for the image classification task because an architecture designer is able to stack more and more layers together to learn more and more complex features\n",
        "\n",
        "![image.png](https://mlnotebook.github.io/img/CNN/convExample.png)"
      ]
    },
    {
      "attachments": {},
      "cell_type": "markdown",
      "metadata": {
        "id": "j4fxzXV3wkbb"
      },
      "source": [
        "#### Stride"
      ]
    },
    {
      "attachments": {},
      "cell_type": "markdown",
      "metadata": {
        "id": "ne8Nw0du1LdL"
      },
      "source": [
        "Indicates how many pixels the kernel should be shifted over at a time\n",
        "\n",
        "`\n",
        "\n",
        "\n",
        "\n",
        "![image.png](https://editor.analyticsvidhya.com/uploads/33383str.jpg)"
      ]
    },
    {
      "attachments": {},
      "cell_type": "markdown",
      "metadata": {
        "id": "I-73SdzWwlYi"
      },
      "source": [
        "#### Padding"
      ]
    },
    {
      "attachments": {},
      "cell_type": "markdown",
      "metadata": {
        "id": "Cnl0k9V2z68u"
      },
      "source": [
        "Padding conserves data at the borders of activation maps, which leads to better performance, and it can help preserve the input's spatial size, which allows an architecture designer to build depper, higher performing networks\n",
        "\n",
        ",\n",
        "\n",
        "![image.png](https://img-blog.csdnimg.cn/2020090604393713.png?x-oss-process=image/watermark,type_ZmFuZ3poZW5naGVpdGk,shadow_10,text_aHR0cHM6Ly9ibG9nLmNzZG4ubmV0L0xpbmxpNTIyMzYyMjQy,size_16,color_FFFFFF,t_70)"
      ]
    },
    {
      "attachments": {},
      "cell_type": "markdown",
      "metadata": {
        "id": "hp4zUzxdwmba"
      },
      "source": [
        "#### Pooling"
      ]
    },
    {
      "attachments": {},
      "cell_type": "markdown",
      "metadata": {
        "id": "mKSVdjH61_Pr"
      },
      "source": [
        "It has the purpose of gradually decreasing the spatial extent of the network, which reduces the parameters and overall computation of the network\n",
        "\n",
        "![image.png](https://www.researchgate.net/publication/333593451/figure/fig2/AS:765890261966848@1559613876098/Illustration-of-Max-Pooling-and-Average-Pooling-Figure-2-above-shows-an-example-of-max.png)"
      ]
    },
    {
      "attachments": {},
      "cell_type": "markdown",
      "metadata": {
        "id": "pDaiY9Yia_cY"
      },
      "source": [
        "---\n",
        "\n",
        "[CNN Explainer](https://poloclub.github.io/cnn-explainer/)\n",
        "\n"
      ]
    },
    {
      "attachments": {},
      "cell_type": "markdown",
      "metadata": {
        "id": "IbPE6MFXU2Tm"
      },
      "source": [
        "#### Network Structure"
      ]
    },
    {
      "cell_type": "code",
      "execution_count": null,
      "metadata": {
        "id": "Xq0xfCg6euey"
      },
      "outputs": [],
      "source": [
        "# Create a convolutional neural network \n",
        "class CNN_Model(nn.Module):\n",
        "    def __init__(self, input_shape, hidden_units, output_shape):\n",
        "        super().__init__()\n",
        "        \n",
        "        self.CNN_block = nn.Sequential(\n",
        "            nn.Conv2d(input_shape,  hidden_units, kernel_size = 3, stride = 1, padding = 1), \n",
        "            nn.ReLU(),\n",
        "            nn.Conv2d(hidden_units, hidden_units, kernel_size = 3, stride = 1, padding = 1),\n",
        "            nn.ReLU(),\n",
        "            nn.MaxPool2d(kernel_size=2, stride=2)\n",
        "        )\n",
        "\n",
        "        self.classifier = nn.Sequential(\n",
        "            nn.Flatten(),\n",
        "            nn.Linear(in_features = hidden_units*14*14, out_features = output_shape)\n",
        "        )\n",
        "    \n",
        "    def forward(self, x: torch.Tensor):\n",
        "        x = self.CNN_block(x)\n",
        "        # print(x.shape)\n",
        "        x = self.classifier(x)\n",
        "        # print(x.shape)\n",
        "        return x\n"
      ]
    },
    {
      "cell_type": "code",
      "execution_count": null,
      "metadata": {
        "colab": {
          "base_uri": "https://localhost:8080/"
        },
        "id": "SlzoOd66eygj",
        "outputId": "3c1f8cb2-29c7-4922-a4e4-5e9165ce6e49"
      },
      "outputs": [
        {
          "data": {
            "text/plain": [
              "CNN_Model(\n",
              "  (CNN_block): Sequential(\n",
              "    (0): Conv2d(1, 10, kernel_size=(3, 3), stride=(1, 1), padding=(1, 1))\n",
              "    (1): ReLU()\n",
              "    (2): Conv2d(10, 10, kernel_size=(3, 3), stride=(1, 1), padding=(1, 1))\n",
              "    (3): ReLU()\n",
              "    (4): MaxPool2d(kernel_size=2, stride=2, padding=0, dilation=1, ceil_mode=False)\n",
              "  )\n",
              "  (classifier): Sequential(\n",
              "    (0): Flatten(start_dim=1, end_dim=-1)\n",
              "    (1): Linear(in_features=1960, out_features=10, bias=True)\n",
              "  )\n",
              ")"
            ]
          },
          "execution_count": 69,
          "metadata": {},
          "output_type": "execute_result"
        }
      ],
      "source": [
        "model = CNN_Model(input_shape=1, hidden_units=10, output_shape=len(classes))\n",
        "model"
      ]
    },
    {
      "cell_type": "code",
      "execution_count": null,
      "metadata": {
        "colab": {
          "base_uri": "https://localhost:8080/"
        },
        "id": "LuqHTof-e1PY",
        "outputId": "ffd1a78f-64db-4df3-d306-51bb8336c660"
      },
      "outputs": [
        {
          "data": {
            "text/plain": [
              "torch.Size([1, 10])"
            ]
          },
          "execution_count": 70,
          "metadata": {},
          "output_type": "execute_result"
        }
      ],
      "source": [
        "random_sample = torch.randn((1, 1, 28, 28))\n",
        "model(random_sample).shape"
      ]
    },
    {
      "attachments": {},
      "cell_type": "markdown",
      "metadata": {
        "id": "SAc_XG4vO0L6"
      },
      "source": [
        "# 3. Training"
      ]
    },
    {
      "attachments": {},
      "cell_type": "markdown",
      "metadata": {
        "id": "T7efLLP2kESX"
      },
      "source": [
        "#### Train Function"
      ]
    },
    {
      "cell_type": "code",
      "execution_count": null,
      "metadata": {
        "id": "paJ5KEiB7RJ7"
      },
      "outputs": [],
      "source": [
        "def train_step(model,\n",
        "               data_loader,\n",
        "               loss_fn,\n",
        "               optimizer,\n",
        "               accuracy_fn,\n",
        "               device):\n",
        "    \n",
        "    # Send model to GPU\n",
        "    model.to(device)\n",
        "    train_loss, train_acc, counter = 0, 0, 0\n",
        "    with tqdm(data_loader, desc =\"  train\") as train_tqdm:\n",
        "        for X, y in train_tqdm:\n",
        "            # Send data to GPU\n",
        "            X, y = X.to(device), y.to(device)\n",
        "\n",
        "            # 1. Forward pass\n",
        "            y_pred = model(X)\n",
        "\n",
        "            # 2. Calculate loss\n",
        "            loss = loss_fn(y_pred, y)\n",
        "            train_loss += loss\n",
        "            train_acc += accuracy_fn(true=y.cpu(),\n",
        "                                     pred=y_pred.cpu())\n",
        "            counter += 1\n",
        "            train_tqdm.set_postfix(train_acc=train_acc/counter, train_loss=train_loss.item()/counter, refresh=True)\n",
        "\n",
        "            # 3. Optimizer zero grad\n",
        "            optimizer.zero_grad()\n",
        "\n",
        "            # 4. Loss backward\n",
        "            loss.backward()\n",
        "\n",
        "            # 5. Optimizer step\n",
        "            optimizer.step()\n",
        "\n",
        "        # Calculate loss and accuracy per epoch and print out what's happening\n",
        "        train_loss /= len(data_loader)\n",
        "        train_acc /= len(data_loader)\n",
        "        \n",
        "    return train_loss.item(), train_acc\n"
      ]
    },
    {
      "attachments": {},
      "cell_type": "markdown",
      "metadata": {
        "id": "focyYlhykJGC"
      },
      "source": [
        "#### Test Function"
      ]
    },
    {
      "cell_type": "code",
      "execution_count": null,
      "metadata": {
        "id": "rgvoocs17RHa"
      },
      "outputs": [],
      "source": [
        "def test_step(model,\n",
        "              data_loader,\n",
        "              loss_fn,\n",
        "              accuracy_fn,\n",
        "              device):\n",
        "    \n",
        "    # Send model to GPU\n",
        "    model.to(device)\n",
        "\n",
        "    # put model in eval mode\n",
        "    model.eval() \n",
        "    test_loss, test_acc, counter = 0, 0, 0\n",
        "    with tqdm(data_loader, desc =\"   test\") as test_tqdm:\n",
        "        for X, y in test_tqdm:\n",
        "            # Send data to GPU\n",
        "            X, y = X.to(device), y.to(device)\n",
        "            \n",
        "            # 1. Forward pass\n",
        "            test_pred = model(X)\n",
        "            \n",
        "            # 2. Calculate loss and accuracy\n",
        "            test_loss += loss_fn(test_pred, y)\n",
        "            test_acc += accuracy_fn(true=y.cpu(),\n",
        "                                    pred=test_pred.cpu())\n",
        "            counter += 1\n",
        "            test_tqdm.set_postfix(train_acc=test_acc/counter, train_loss=test_loss.item()/counter, refresh=True)\n",
        "\n",
        "        # Adjust metrics and print out\n",
        "        test_loss /= len(data_loader)\n",
        "        test_acc  /= len(data_loader)\n",
        "            \n",
        "    return test_loss.item(), test_acc"
      ]
    },
    {
      "attachments": {},
      "cell_type": "markdown",
      "metadata": {
        "id": "fCeJDfGukXdh"
      },
      "source": [
        "## Training"
      ]
    },
    {
      "cell_type": "code",
      "execution_count": null,
      "metadata": {
        "id": "j6vUboqvDIYA"
      },
      "outputs": [],
      "source": [
        "loss_fn = nn.CrossEntropyLoss()\n",
        "optimizer = torch.optim.Adam(model.parameters(), lr = 0.0001)\n",
        "device = torch.device(\"cuda:0\" if torch.cuda.is_available() else \"cpu\")\n",
        "def accuracy_fn(true, pred):\n",
        "    pred = F.softmax(pred, dim = 1)\n",
        "    true = torch.zeros(pred.shape[0], pred.shape[1]).scatter_(1, true.unsqueeze(1), 1.)\n",
        "    acc = (true.argmax(-1) == pred.argmax(-1)).float().detach().numpy()\n",
        "    acc = float((100 * acc.sum()) / len(acc))\n",
        "    return round(acc, 4)"
      ]
    },
    {
      "cell_type": "code",
      "execution_count": null,
      "metadata": {
        "colab": {
          "base_uri": "https://localhost:8080/"
        },
        "id": "-rBaTk5Sihms",
        "outputId": "92114d6b-6a57-4d40-ec1e-8946e5b50bbf"
      },
      "outputs": [
        {
          "name": "stdout",
          "output_type": "stream",
          "text": [
            "EPOCH 1/20 :\n"
          ]
        },
        {
          "name": "stderr",
          "output_type": "stream",
          "text": [
            "  train: 100%|██████████| 1875/1875 [00:31<00:00, 59.90it/s, train_acc=76, train_loss=0.732]\n",
            "   test: 100%|██████████| 313/313 [00:03<00:00, 78.96it/s, train_acc=81.6, train_loss=0.517]\n"
          ]
        },
        {
          "name": "stdout",
          "output_type": "stream",
          "text": [
            "EPOCH 2/20 :\n"
          ]
        },
        {
          "name": "stderr",
          "output_type": "stream",
          "text": [
            "  train: 100%|██████████| 1875/1875 [00:29<00:00, 63.77it/s, train_acc=83.9, train_loss=0.452]\n",
            "   test: 100%|██████████| 313/313 [00:03<00:00, 78.81it/s, train_acc=83.7, train_loss=0.45]\n"
          ]
        },
        {
          "name": "stdout",
          "output_type": "stream",
          "text": [
            "EPOCH 3/20 :\n"
          ]
        },
        {
          "name": "stderr",
          "output_type": "stream",
          "text": [
            "  train: 100%|██████████| 1875/1875 [00:29<00:00, 62.64it/s, train_acc=85.8, train_loss=0.402]\n",
            "   test: 100%|██████████| 313/313 [00:04<00:00, 69.70it/s, train_acc=85.2, train_loss=0.415]\n"
          ]
        },
        {
          "name": "stdout",
          "output_type": "stream",
          "text": [
            "EPOCH 4/20 :\n"
          ]
        },
        {
          "name": "stderr",
          "output_type": "stream",
          "text": [
            "  train: 100%|██████████| 1875/1875 [00:28<00:00, 65.06it/s, train_acc=86.7, train_loss=0.375]\n",
            "   test: 100%|██████████| 313/313 [00:05<00:00, 58.35it/s, train_acc=86, train_loss=0.393]\n"
          ]
        },
        {
          "name": "stdout",
          "output_type": "stream",
          "text": [
            "EPOCH 5/20 :\n"
          ]
        },
        {
          "name": "stderr",
          "output_type": "stream",
          "text": [
            "  train: 100%|██████████| 1875/1875 [00:29<00:00, 63.59it/s, train_acc=87.5, train_loss=0.356]\n",
            "   test: 100%|██████████| 313/313 [00:04<00:00, 74.02it/s, train_acc=86.3, train_loss=0.381]\n"
          ]
        },
        {
          "name": "stdout",
          "output_type": "stream",
          "text": [
            "EPOCH 6/20 :\n"
          ]
        },
        {
          "name": "stderr",
          "output_type": "stream",
          "text": [
            "  train: 100%|██████████| 1875/1875 [00:29<00:00, 62.86it/s, train_acc=88, train_loss=0.342]\n",
            "   test: 100%|██████████| 313/313 [00:03<00:00, 79.78it/s, train_acc=87.2, train_loss=0.37]\n"
          ]
        },
        {
          "name": "stdout",
          "output_type": "stream",
          "text": [
            "EPOCH 7/20 :\n"
          ]
        },
        {
          "name": "stderr",
          "output_type": "stream",
          "text": [
            "  train: 100%|██████████| 1875/1875 [00:29<00:00, 62.97it/s, train_acc=88.4, train_loss=0.33]\n",
            "   test: 100%|██████████| 313/313 [00:03<00:00, 78.51it/s, train_acc=87.7, train_loss=0.353]\n"
          ]
        },
        {
          "name": "stdout",
          "output_type": "stream",
          "text": [
            "EPOCH 8/20 :\n"
          ]
        },
        {
          "name": "stderr",
          "output_type": "stream",
          "text": [
            "  train: 100%|██████████| 1875/1875 [00:31<00:00, 59.55it/s, train_acc=88.8, train_loss=0.32]\n",
            "   test: 100%|██████████| 313/313 [00:04<00:00, 68.36it/s, train_acc=87.4, train_loss=0.351]\n"
          ]
        },
        {
          "name": "stdout",
          "output_type": "stream",
          "text": [
            "EPOCH 9/20 :\n"
          ]
        },
        {
          "name": "stderr",
          "output_type": "stream",
          "text": [
            "  train: 100%|██████████| 1875/1875 [00:28<00:00, 65.42it/s, train_acc=89, train_loss=0.311]\n",
            "   test: 100%|██████████| 313/313 [00:05<00:00, 57.95it/s, train_acc=87.9, train_loss=0.345]\n"
          ]
        },
        {
          "name": "stdout",
          "output_type": "stream",
          "text": [
            "EPOCH 10/20 :\n"
          ]
        },
        {
          "name": "stderr",
          "output_type": "stream",
          "text": [
            "  train: 100%|██████████| 1875/1875 [00:28<00:00, 64.72it/s, train_acc=89.3, train_loss=0.304]\n",
            "   test: 100%|██████████| 313/313 [00:04<00:00, 71.05it/s, train_acc=87.6, train_loss=0.356]\n"
          ]
        },
        {
          "name": "stdout",
          "output_type": "stream",
          "text": [
            "EPOCH 11/20 :\n"
          ]
        },
        {
          "name": "stderr",
          "output_type": "stream",
          "text": [
            "  train: 100%|██████████| 1875/1875 [00:29<00:00, 64.05it/s, train_acc=89.6, train_loss=0.296]\n",
            "   test: 100%|██████████| 313/313 [00:03<00:00, 79.36it/s, train_acc=88.5, train_loss=0.336]\n"
          ]
        },
        {
          "name": "stdout",
          "output_type": "stream",
          "text": [
            "EPOCH 12/20 :\n"
          ]
        },
        {
          "name": "stderr",
          "output_type": "stream",
          "text": [
            "  train: 100%|██████████| 1875/1875 [00:29<00:00, 63.60it/s, train_acc=89.7, train_loss=0.29]\n",
            "   test: 100%|██████████| 313/313 [00:03<00:00, 79.73it/s, train_acc=89, train_loss=0.321]\n"
          ]
        },
        {
          "name": "stdout",
          "output_type": "stream",
          "text": [
            "EPOCH 13/20 :\n"
          ]
        },
        {
          "name": "stderr",
          "output_type": "stream",
          "text": [
            "  train: 100%|██████████| 1875/1875 [00:29<00:00, 63.66it/s, train_acc=90, train_loss=0.283]\n",
            "   test: 100%|██████████| 313/313 [00:04<00:00, 69.78it/s, train_acc=89.2, train_loss=0.319]\n"
          ]
        },
        {
          "name": "stdout",
          "output_type": "stream",
          "text": [
            "EPOCH 14/20 :\n"
          ]
        },
        {
          "name": "stderr",
          "output_type": "stream",
          "text": [
            "  train: 100%|██████████| 1875/1875 [00:30<00:00, 62.25it/s, train_acc=90.3, train_loss=0.277]\n",
            "   test: 100%|██████████| 313/313 [00:05<00:00, 57.61it/s, train_acc=88.5, train_loss=0.326]\n"
          ]
        },
        {
          "name": "stdout",
          "output_type": "stream",
          "text": [
            "EPOCH 15/20 :\n"
          ]
        },
        {
          "name": "stderr",
          "output_type": "stream",
          "text": [
            "  train: 100%|██████████| 1875/1875 [00:30<00:00, 60.94it/s, train_acc=90.4, train_loss=0.273]\n",
            "   test: 100%|██████████| 313/313 [00:04<00:00, 72.47it/s, train_acc=89.2, train_loss=0.317]\n"
          ]
        },
        {
          "name": "stdout",
          "output_type": "stream",
          "text": [
            "EPOCH 16/20 :\n"
          ]
        },
        {
          "name": "stderr",
          "output_type": "stream",
          "text": [
            "  train: 100%|██████████| 1875/1875 [00:29<00:00, 63.79it/s, train_acc=90.5, train_loss=0.268]\n",
            "   test: 100%|██████████| 313/313 [00:04<00:00, 78.20it/s, train_acc=89, train_loss=0.308]\n"
          ]
        },
        {
          "name": "stdout",
          "output_type": "stream",
          "text": [
            "EPOCH 17/20 :\n"
          ]
        },
        {
          "name": "stderr",
          "output_type": "stream",
          "text": [
            "  train: 100%|██████████| 1875/1875 [00:29<00:00, 63.35it/s, train_acc=90.8, train_loss=0.262]\n",
            "   test: 100%|██████████| 313/313 [00:04<00:00, 75.98it/s, train_acc=89.4, train_loss=0.304]\n"
          ]
        },
        {
          "name": "stdout",
          "output_type": "stream",
          "text": [
            "EPOCH 18/20 :\n"
          ]
        },
        {
          "name": "stderr",
          "output_type": "stream",
          "text": [
            "  train: 100%|██████████| 1875/1875 [00:29<00:00, 63.27it/s, train_acc=90.9, train_loss=0.259]\n",
            "   test: 100%|██████████| 313/313 [00:04<00:00, 67.23it/s, train_acc=89.1, train_loss=0.308]\n"
          ]
        },
        {
          "name": "stdout",
          "output_type": "stream",
          "text": [
            "EPOCH 19/20 :\n"
          ]
        },
        {
          "name": "stderr",
          "output_type": "stream",
          "text": [
            "  train: 100%|██████████| 1875/1875 [00:30<00:00, 61.41it/s, train_acc=91, train_loss=0.255]\n",
            "   test: 100%|██████████| 313/313 [00:05<00:00, 57.71it/s, train_acc=89.2, train_loss=0.302]\n"
          ]
        },
        {
          "name": "stdout",
          "output_type": "stream",
          "text": [
            "EPOCH 20/20 :\n"
          ]
        },
        {
          "name": "stderr",
          "output_type": "stream",
          "text": [
            "  train: 100%|██████████| 1875/1875 [00:29<00:00, 62.87it/s, train_acc=91.1, train_loss=0.251]\n",
            "   test: 100%|██████████| 313/313 [00:03<00:00, 78.57it/s, train_acc=89.3, train_loss=0.303]\n"
          ]
        },
        {
          "name": "stdout",
          "output_type": "stream",
          "text": [
            "\n",
            "\n",
            "Train time: 685.353 seconds\n"
          ]
        }
      ],
      "source": [
        "# Measure time\n",
        "from timeit import default_timer as timer\n",
        "\n",
        "train_epoch_loss = []\n",
        "train_epoch_accuracy = []\n",
        "test_epoch_loss = []\n",
        "test_epoch_accuracy = []\n",
        "\n",
        "train_time_start = timer()\n",
        "\n",
        "epochs = 20\n",
        "for epoch in range(epochs):\n",
        "    print(\"EPOCH {}/{} :\".format(epoch +1, epochs))\n",
        "    train_loss, train_acc = train_step(data_loader=train_dataloader,\n",
        "                                              model=model, \n",
        "                                              loss_fn=loss_fn,\n",
        "                                              optimizer=optimizer,\n",
        "                                              accuracy_fn=accuracy_fn,\n",
        "                                              device=device\n",
        "                                              )\n",
        "    test_loss, test_acc = test_step(data_loader=test_dataloader,\n",
        "                                    model=model,\n",
        "                                    loss_fn=loss_fn,\n",
        "                                    accuracy_fn=accuracy_fn,\n",
        "                                    device=device\n",
        "                                    )\n",
        "    \n",
        "    train_epoch_loss.append(train_loss)\n",
        "    train_epoch_accuracy.append(train_acc)\n",
        "    test_epoch_loss.append(test_loss)\n",
        "    test_epoch_accuracy.append(test_acc)\n",
        "\n",
        "train_time_end = timer()\n",
        "total_time = train_time_end - train_time_start\n",
        "print(f\"\\n\\nTrain time: {total_time:.3f} seconds\")"
      ]
    },
    {
      "attachments": {},
      "cell_type": "markdown",
      "metadata": {
        "id": "UYyTtCZMQDtl"
      },
      "source": [
        "#### Saving Model"
      ]
    },
    {
      "cell_type": "code",
      "execution_count": null,
      "metadata": {
        "id": "P-Udj3MfN7cy"
      },
      "outputs": [],
      "source": [
        "torch.save(model.state_dict(), 'saved_model')"
      ]
    },
    {
      "attachments": {},
      "cell_type": "markdown",
      "metadata": {
        "id": "iPJXjU0LQAL4"
      },
      "source": [
        "# 4. Evaluation"
      ]
    },
    {
      "attachments": {},
      "cell_type": "markdown",
      "metadata": {
        "id": "xt9aCtBoQpyr"
      },
      "source": [
        "#### Loss & Accuracy Plots"
      ]
    },
    {
      "cell_type": "code",
      "execution_count": null,
      "metadata": {
        "id": "4LnvB_vQaQmp"
      },
      "outputs": [],
      "source": [
        "def accloss_plots(train_loss=train_epoch_loss, \n",
        "                  test_loss=test_epoch_loss, \n",
        "                  train_acc=train_epoch_accuracy, \n",
        "                  test_acc=test_epoch_accuracy):\n",
        "  \n",
        "    num_epochs = len(train_loss)\n",
        "    plt.figure(figsize=(13,5))\n",
        "    plt.subplot(121)\n",
        "    plt.plot(train_loss, 'r', label='Train')\n",
        "    plt.plot(test_loss , 'g', label='Test')\n",
        "    plt.xlabel('Epochs', fontsize=10, labelpad=8)\n",
        "    plt.title('Loss', fontsize=25, pad=15)\n",
        "    plt.grid()\n",
        "    plt.legend()\n",
        "    sns.despine()\n",
        "    plt.subplot(122)\n",
        "    plt.plot(train_acc, 'r', label='Train')\n",
        "    plt.plot(test_acc, 'g', label='Test')\n",
        "    plt.xlabel('Epochs', fontsize=10, labelpad=8)\n",
        "    plt.title('Accuracy', fontsize=25, pad=15)\n",
        "    plt.tight_layout(pad=3)\n",
        "    plt.grid()\n",
        "    plt.legend()\n",
        "    sns.despine()\n",
        "    plt.show();"
      ]
    },
    {
      "cell_type": "code",
      "execution_count": null,
      "metadata": {
        "colab": {
          "base_uri": "https://localhost:8080/",
          "height": 320
        },
        "id": "BibsSbv-YckP",
        "outputId": "11b032fe-c369-4703-839c-c7cfebde74be"
      },
      "outputs": [
        {
          "data": {
            "image/png": "[encoded data removed]",
            "text/plain": [
              "<Figure size 936x360 with 2 Axes>"
            ]
          },
          "metadata": {
            "needs_background": "light"
          },
          "output_type": "display_data"
        }
      ],
      "source": [
        "accloss_plots()"
      ]
    },
    {
      "attachments": {},
      "cell_type": "markdown",
      "metadata": {
        "id": "T7H6uzkrRxYh"
      },
      "source": [
        "#### Make prediction"
      ]
    },
    {
      "cell_type": "code",
      "execution_count": null,
      "metadata": {
        "id": "d4CxzysF-cyH"
      },
      "outputs": [],
      "source": [
        "def make_predictions(model, data, device = device):\n",
        "    pred_probs = []\n",
        "    model.to(device)\n",
        "    model.eval()\n",
        "    for sample in data:\n",
        "        # Prepare sample\n",
        "        sample = torch.unsqueeze(sample, dim=0).to(device) # Add an extra dimension and send sample to device\n",
        "\n",
        "        # Forward pass (model outputs raw logit)\n",
        "        pred_logit = model(sample)\n",
        "\n",
        "        # Get prediction probability (logit -> prediction probability)\n",
        "        pred_prob = torch.softmax(pred_logit.squeeze(), dim=0)\n",
        "\n",
        "        # Get pred_prob off GPU for further calculations\n",
        "        pred_probs.append(pred_prob.cpu())\n",
        "            \n",
        "    # Stack the pred_probs to turn list into a tensor\n",
        "    return torch.stack(pred_probs)"
      ]
    },
    {
      "cell_type": "code",
      "execution_count": null,
      "metadata": {
        "id": "f4QdUmo3R64w"
      },
      "outputs": [],
      "source": [
        "import random\n",
        "test_samples = []\n",
        "test_labels = []\n",
        "for sample, label in random.sample(list(test_dataset), k=9):\n",
        "    test_samples.append(sample)\n",
        "    test_labels.append(label)"
      ]
    },
    {
      "cell_type": "code",
      "execution_count": null,
      "metadata": {
        "id": "WlCh8uvFR61A"
      },
      "outputs": [],
      "source": [
        "# Make predictions on test samples with model\n",
        "pred_probs = make_predictions(model=model, data=test_samples)\n",
        "\n",
        "# Turn the prediction probabilities into prediction labels by taking the argmax()\n",
        "pred_classes = pred_probs.argmax(dim=1)"
      ]
    },
    {
      "cell_type": "code",
      "execution_count": null,
      "metadata": {
        "colab": {
          "base_uri": "https://localhost:8080/",
          "height": 534
        },
        "id": "MFQnp9beBCGf",
        "outputId": "a8a04a68-f9f8-4062-cb90-51d7fd7349f6"
      },
      "outputs": [
        {
          "data": {
            "image/png": "[encoded data removed]",
            "text/plain": [
              "<Figure size 648x648 with 9 Axes>"
            ]
          },
          "metadata": {
            "needs_background": "light"
          },
          "output_type": "display_data"
        }
      ],
      "source": [
        "# Plot predictions\n",
        "plt.figure(figsize=(9, 9))\n",
        "nrows = 3\n",
        "ncols = 3\n",
        "for i, sample in enumerate(test_samples):\n",
        "    # Create a subplot\n",
        "    plt.subplot(nrows, ncols, i+1)\n",
        "\n",
        "    # Plot the target image\n",
        "    plt.imshow(sample.squeeze(), cmap=\"gray\")\n",
        "\n",
        "    # Find the prediction label (in text form, e.g. \"Sandal\")\n",
        "    pred_label = test_dataset.classes[pred_classes[i]]\n",
        "\n",
        "    # Get the truth label (in text form, e.g. \"T-shirt\")\n",
        "    truth_label = test_dataset.classes[test_labels[i]] \n",
        "\n",
        "    # Create the title text of the plot\n",
        "    title_text = f\"Pred: {pred_label} | Truth: {truth_label}\"\n",
        "    \n",
        "    # Check for equality and change title colour accordingly\n",
        "    if pred_label == truth_label:\n",
        "        plt.title(title_text, fontsize=10, c=\"g\") # green text if correct\n",
        "    else:\n",
        "        plt.title(title_text, fontsize=10, c=\"r\") # red text if wrong\n",
        "    plt.axis(False);"
      ]
    },
    {
      "attachments": {},
      "cell_type": "markdown",
      "metadata": {
        "id": "9g58SssYUVfZ"
      },
      "source": [
        "#### Confusion Matrix"
      ]
    },
    {
      "cell_type": "code",
      "execution_count": null,
      "metadata": {
        "colab": {
          "base_uri": "https://localhost:8080/"
        },
        "id": "_TSfnUCPUcsT",
        "outputId": "b5056125-d50b-4eba-f424-e158f4cc216e"
      },
      "outputs": [
        {
          "name": "stderr",
          "output_type": "stream",
          "text": [
            "Making predictions: 100%|██████████| 313/313 [00:02<00:00, 109.28it/s]\n"
          ]
        }
      ],
      "source": [
        "y_preds = []\n",
        "model.eval()\n",
        "for X, y in tqdm(test_dataloader, desc=\"Making predictions\"):\n",
        "    # Send data and targets to target device\n",
        "    X, y = X.to(device), y.to(device)\n",
        "\n",
        "    # Do the forward pass\n",
        "    y_logit = model(X)\n",
        "\n",
        "    # Turn predictions from logits -> prediction probabilities -> predictions labels\n",
        "    y_pred = torch.softmax(y_logit, dim=1).argmax(dim=1)\n",
        "\n",
        "    # Put predictions on CPU for evaluation\n",
        "    y_preds.append(y_pred.cpu())\n",
        "    \n",
        "# Concatenate list of predictions into a tensor\n",
        "y_pred_tensor = torch.cat(y_preds)"
      ]
    },
    {
      "cell_type": "code",
      "execution_count": null,
      "metadata": {
        "colab": {
          "base_uri": "https://localhost:8080/"
        },
        "id": "Sr4QOR_vUcoE",
        "outputId": "cf0fe1ce-db16-4f83-9b7f-51f07f190608"
      },
      "outputs": [
        {
          "data": {
            "text/plain": [
              "array([[790,   0,  17,  36,   8,   2, 134,   0,  13,   0],\n",
              "       [  0, 976,   1,  14,   5,   0,   2,   0,   2,   0],\n",
              "       [ 15,   1, 792,  12, 111,   0,  65,   0,   4,   0],\n",
              "       [ 11,   8,   8, 915,  25,   0,  30,   0,   3,   0],\n",
              "       [  1,   0,  21,  35, 900,   0,  42,   0,   1,   0],\n",
              "       [  0,   0,   0,   0,   0, 980,   0,  16,   0,   4],\n",
              "       [ 93,   2,  60,  35, 111,   0, 685,   0,  14,   0],\n",
              "       [  0,   0,   0,   0,   0,  15,   0, 972,   2,  11],\n",
              "       [  3,   3,   1,   6,   1,   1,   2,   5, 978,   0],\n",
              "       [  0,   0,   0,   0,   0,   9,   1,  45,   1, 944]])"
            ]
          },
          "execution_count": 99,
          "metadata": {},
          "output_type": "execute_result"
        }
      ],
      "source": [
        "from sklearn.metrics import confusion_matrix\n",
        "CM = confusion_matrix(y_true=test_dataset.targets,\n",
        "                      y_pred=y_pred_tensor)\n",
        "CM"
      ]
    },
    {
      "cell_type": "code",
      "execution_count": null,
      "metadata": {
        "colab": {
          "base_uri": "https://localhost:8080/",
          "height": 651
        },
        "id": "W2fdJQSTihhp",
        "outputId": "a9000412-c448-4baf-ab85-c7e98b97045d"
      },
      "outputs": [
        {
          "data": {
            "image/png": "[encoded data removed]",
            "text/plain": [
              "<Figure size 720x720 with 1 Axes>"
            ]
          },
          "metadata": {
            "needs_background": "light"
          },
          "output_type": "display_data"
        }
      ],
      "source": [
        "plt.figure(figsize=(10,10))\n",
        "sns.heatmap(CM, cmap='Blues', annot=True, cbar=False, fmt=\".0f\",\n",
        "            xticklabels=classes, yticklabels=classes)\n",
        "plt.xlabel('Predicted Label', labelpad=20)\n",
        "plt.ylabel('True Label', labelpad=20)\n",
        "plt.title('Confusion Matrix', fontsize=30);"
      ]
    },
    {
      "attachments": {},
      "cell_type": "markdown",
      "metadata": {
        "id": "zyw0ASzVQ5Rg"
      },
      "source": [
        "---\n",
        "# Any Questions?\n",
        "##### E-mail: mahyar.maleki@ut.ac.ir\n",
        "##### Telegram_ID: @m4hyarm\n",
        "\n",
        "---"
      ]
    }
  ],
  "metadata": {
    "accelerator": "GPU",
    "colab": {
      "provenance": []
    },
    "gpuClass": "standard",
    "kernelspec": {
      "display_name": "Python 3",
      "name": "python3"
    },
    "language_info": {
      "name": "python"
    }
  },
  "nbformat": 4,
  "nbformat_minor": 0
}
